{
 "cells": [
  {
   "cell_type": "code",
   "execution_count": 5,
   "id": "91e443b0-ad8d-44bd-9629-c698c3e4b2a0",
   "metadata": {
    "jupyter": {
     "source_hidden": true
    },
    "tags": []
   },
   "outputs": [],
   "source": [
    "import pandas as pd"
   ]
  },
  {
   "cell_type": "code",
   "execution_count": 6,
   "id": "02391eff-1ff6-4395-8cdf-66521a91b929",
   "metadata": {},
   "outputs": [],
   "source": [
    "from sklearn.linear_model import LinearRegression as LR"
   ]
  },
  {
   "cell_type": "code",
   "execution_count": 7,
   "id": "c45d286e-28bf-4004-bf33-d591e817bdaf",
   "metadata": {},
   "outputs": [],
   "source": [
    "import numpy as np"
   ]
  },
  {
   "cell_type": "code",
   "execution_count": 8,
   "id": "4751430e-11e7-4f00-baf1-abd1309d86ed",
   "metadata": {},
   "outputs": [],
   "source": [
    "import matplotlib as plt"
   ]
  },
  {
   "cell_type": "code",
   "execution_count": 27,
   "id": "d8960620",
   "metadata": {},
   "outputs": [],
   "source": [
    "from sklearn.model_selection import train_test_split"
   ]
  },
  {
   "cell_type": "code",
   "execution_count": 28,
   "id": "00bc071f-886c-43b9-9050-d7318eceb6e6",
   "metadata": {},
   "outputs": [],
   "source": [
    "data=pd.read_csv('salary.csv')\n",
    "data"
   ]
  },
  {
   "cell_type": "code",
   "execution_count": null,
   "id": "53045759",
   "metadata": {},
   "outputs": [],
   "source": []
  },
  {
   "cell_type": "code",
   "execution_count": 10,
   "id": "7adea88c-350f-400a-ae04-9d4395f5d3ea",
   "metadata": {},
   "outputs": [],
   "source": [
    "y=data['Salary']"
   ]
  },
  {
   "cell_type": "code",
   "execution_count": 11,
   "id": "155b6b98-f5de-4566-9c5b-c2099e356682",
   "metadata": {},
   "outputs": [],
   "source": [
    "x=data['YOE']"
   ]
  },
  {
   "cell_type": "code",
   "execution_count": 12,
   "id": "021c2047-1218-4b83-9257-744f588b73da",
   "metadata": {},
   "outputs": [],
   "source": [
    "X=x.values.reshape(-1,1)"
   ]
  },
  {
   "cell_type": "code",
   "execution_count": 29,
   "id": "7f8ec021",
   "metadata": {},
   "outputs": [],
   "source": [
    "X_train, X_test, y_train, y_test = train_test_split(X, y, test_size=0.33)"
   ]
  },
  {
   "cell_type": "code",
   "execution_count": 13,
   "id": "aafbacad-1774-4c20-b2cb-6ce1034cb83e",
   "metadata": {},
   "outputs": [],
   "source": [
    "model=LR()"
   ]
  },
  {
   "cell_type": "code",
   "execution_count": 30,
   "id": "edc9d3e1-fa3f-430a-84db-84cefea5cf7c",
   "metadata": {},
   "outputs": [
    {
     "data": {
      "text/plain": [
       "LinearRegression()"
      ]
     },
     "execution_count": 30,
     "metadata": {},
     "output_type": "execute_result"
    }
   ],
   "source": [
    "model.fit(X_train, y_train)"
   ]
  },
  {
   "cell_type": "code",
   "execution_count": 37,
   "id": "6ebce07b-078d-48ea-a062-413f0cc129ed",
   "metadata": {},
   "outputs": [
    {
     "data": {
      "text/plain": [
       "array([39018.51851852, 47111.11111111, 30925.92592593])"
      ]
     },
     "execution_count": 37,
     "metadata": {},
     "output_type": "execute_result"
    }
   ],
   "source": [
    "model.predict(X_test)"
   ]
  },
  {
   "cell_type": "code",
   "execution_count": 16,
   "id": "920e6c66-6c98-41e3-932b-309f14b44601",
   "metadata": {},
   "outputs": [],
   "source": [
    "w=model.coef_"
   ]
  },
  {
   "cell_type": "code",
   "execution_count": 17,
   "id": "cd5e2c42-7729-489c-bf77-62197576c4fd",
   "metadata": {},
   "outputs": [],
   "source": [
    "b=model.intercept_"
   ]
  },
  {
   "cell_type": "code",
   "execution_count": 18,
   "id": "56f643be-3a65-4e78-8c52-81fa6f11d086",
   "metadata": {},
   "outputs": [
    {
     "name": "stdout",
     "output_type": "stream",
     "text": [
      "16915.77060931899\n"
     ]
    }
   ],
   "source": [
    "print(b)"
   ]
  },
  {
   "cell_type": "code",
   "execution_count": 34,
   "id": "eceb06b5-2695-4d29-80a8-2cd4acd5e8ec",
   "metadata": {},
   "outputs": [
    {
     "data": {
      "text/plain": [
       "98.59"
      ]
     },
     "execution_count": 34,
     "metadata": {},
     "output_type": "execute_result"
    }
   ],
   "source": [
    "29577/30000 *100"
   ]
  },
  {
   "cell_type": "code",
   "execution_count": null,
   "id": "2b0a96d3",
   "metadata": {},
   "outputs": [],
   "source": []
  },
  {
   "cell_type": "code",
   "execution_count": null,
   "id": "71bae391",
   "metadata": {},
   "outputs": [],
   "source": []
  }
 ],
 "metadata": {
  "kernelspec": {
   "display_name": "Python 3 (ipykernel)",
   "language": "python",
   "name": "python3"
  },
  "language_info": {
   "codemirror_mode": {
    "name": "ipython",
    "version": 3
   },
   "file_extension": ".py",
   "mimetype": "text/x-python",
   "name": "python",
   "nbconvert_exporter": "python",
   "pygments_lexer": "ipython3",
   "version": "3.10.0"
  }
 },
 "nbformat": 4,
 "nbformat_minor": 5
}
